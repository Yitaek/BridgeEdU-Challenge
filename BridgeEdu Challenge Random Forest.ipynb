{
 "cells": [
  {
   "cell_type": "code",
   "execution_count": 1109,
   "metadata": {
    "collapsed": true
   },
   "outputs": [],
   "source": [
    "import pandas as pd\n",
    "from sas7bdat import SAS7BDAT\n",
    "import statsmodels.formula.api as sm\n",
    "from sklearn.ensemble import RandomForestClassifier\n",
    "from sklearn.ensemble import RandomForestRegressor\n",
    "from sklearn.metrics import roc_auc_score\n",
    "from sklearn.externals import joblib\n",
    "from sklearn import tree\n",
    "from sklearn.linear_model import LogisticRegression\n",
    "import string\n",
    "pd.set_option('display.max_columns', 500)\n",
    "pd.set_option('display.max_rows', 200)"
   ]
  },
  {
   "cell_type": "code",
   "execution_count": null,
   "metadata": {
    "collapsed": true
   },
   "outputs": [],
   "source": [
    "#Data and description of variables can be downloaded from http://opr.princeton.edu/Archive/NLSF/. We are unable to\n",
    "#provide a copy of the data set due to an agreement we signed. However, the data set is free and available to anyone; you\n",
    "#just have to register and sign the agreement in the link above."
   ]
  },
  {
   "cell_type": "code",
   "execution_count": 3022,
   "metadata": {
    "collapsed": false,
    "scrolled": false
   },
   "outputs": [],
   "source": [
    "#load pre freshmen survey responses\n",
    "pre_frosh = SAS7BDAT('~/wave_freshmen.sas7bdat')"
   ]
  },
  {
   "cell_type": "code",
   "execution_count": 3023,
   "metadata": {
    "collapsed": false,
    "scrolled": true
   },
   "outputs": [],
   "source": [
    "#load freshmen spring survey responses\n",
    "frosh_spring = SAS7BDAT('~/wave_freshmen_spring.sas7bdat')"
   ]
  },
  {
   "cell_type": "code",
   "execution_count": 3024,
   "metadata": {
    "collapsed": false
   },
   "outputs": [],
   "source": [
    "#load sophomore spring survey responses\n",
    "soph = SAS7BDAT('~/wave_soph.sas7bdat')"
   ]
  },
  {
   "cell_type": "code",
   "execution_count": 2838,
   "metadata": {
    "collapsed": true
   },
   "outputs": [],
   "source": [
    "#load junior spring survey responses\n",
    "junior = SAS7BDAT('~/wave_junior.sas7bdat')"
   ]
  },
  {
   "cell_type": "code",
   "execution_count": 2839,
   "metadata": {
    "collapsed": true
   },
   "outputs": [],
   "source": [
    "#load senior spring survey responses\n",
    "grad = SAS7BDAT('~/wave_grad.sas7bdat')"
   ]
  },
  {
   "cell_type": "code",
   "execution_count": 2840,
   "metadata": {
    "collapsed": true
   },
   "outputs": [],
   "source": [
    "#load supplemental survey questions\n",
    "sup_info = SAS7BDAT('~/freshmen_supp_1.sas7bdat')"
   ]
  },
  {
   "cell_type": "code",
   "execution_count": 2841,
   "metadata": {
    "collapsed": false
   },
   "outputs": [],
   "source": [
    "#convert to Pandas data frames\n",
    "sup_info = sup_info.to_data_frame()\n",
    "pre_frosh = pre_frosh.to_data_frame()\n",
    "frosh = frosh_spring.to_data_frame()\n",
    "soph = soph.to_data_frame()\n",
    "junior = junior.to_data_frame()\n",
    "grad = grad.to_data_frame()"
   ]
  },
  {
   "cell_type": "code",
   "execution_count": 2842,
   "metadata": {
    "collapsed": true
   },
   "outputs": [],
   "source": [
    "#rename columns so they are all lowercase\n",
    "pre_frosh.columns = [col.lower() for col in pre_frosh.columns]\n",
    "frosh.columns = [col.lower() for col in frosh.columns]\n",
    "soph.columns = [col.lower() for col in soph.columns]\n",
    "junior.columns = [col.lower() for col in junior.columns]\n",
    "grad.columns = [col.lower() for col in grad.columns]\n",
    "sup_info.columns = [col.lower() for col in sup_info.columns]"
   ]
  },
  {
   "cell_type": "code",
   "execution_count": 2843,
   "metadata": {
    "collapsed": true
   },
   "outputs": [],
   "source": [
    "#select variables we want from the supplemental dataset\n",
    "#variable definitions can be found in the PDF's downloaded from the site listed above\n",
    "sup_cols = ['caseid', 'whit0102', 'blac0102', 'hisp0102', 'asia0102', 'camp0102', 'smal0102', 'med0102', 'larg0102', \n",
    "           'tuit0102', 'room0102', 'app0102', 'need0102', 'aid0102', 'grnt0102', 'amt0102', 'debt0102', 'inde0102']\n",
    "sup_info = sup_info[sup_cols]"
   ]
  },
  {
   "cell_type": "code",
   "execution_count": 2844,
   "metadata": {
    "collapsed": true
   },
   "outputs": [],
   "source": [
    "#rename the variables to more readable names\n",
    "sup_info = sup_info.rename(columns = {'white0102':'pct_white', 'blac0102':'pct_black', 'hisp0102':'pct_hisp', \n",
    "                                      'asia0102':'pct_asia', 'camp0102':'on_campus', 'smal0102':'small_class', \n",
    "                                      'med0102':'med_class', 'larg0102':'large_class', 'tuit0102':'tuition', \n",
    "                                      'room0102':'room', 'app0102':'pct_apply_finaid', \n",
    "                                      'need0102':'pct_need_aid', 'aid0102':'pct_need_met', \n",
    "                                      'grnt0102':'pct_rec_grants', 'amt0102':'avg_grant', 'debt0102':'pct_w_debt', \n",
    "                                      'inde0102':'avg_debt'})"
   ]
  },
  {
   "cell_type": "code",
   "execution_count": 2845,
   "metadata": {
    "collapsed": false
   },
   "outputs": [],
   "source": [
    "#select variables from pre freshmen year\n",
    "pre_frosh_cols = ['caseid', 'college', 'sex', 'w1qzeth', 'fborn', 'hsizelyr', 'lforclyr', 'parntlyr', 'depndlyr', \n",
    "       'ysiblyr', 'osiblyr', 'schoolyr', 'w1q38', 'w1q39a', 'w1q62a', 'w1q62b', 'w1q62c', 'w1q62d', 'w1q62e', 'w1q62f',\n",
    "       'w1q62g', 'w1q62h', 'w1q62i', 'w1q62j', 'w1q173', 'w1q177', 'w1q179', 'w1q180', 'w1q181']\n",
    "df_pre = pre_frosh[pre_frosh_cols]"
   ]
  },
  {
   "cell_type": "code",
   "execution_count": 2846,
   "metadata": {
    "collapsed": false
   },
   "outputs": [],
   "source": [
    "#rename pre freshmen year variables\n",
    "df_pre = df_pre.rename(columns = {'w1qzeth': 'ethnicity', 'fborn':'us_born', 'parntlyr':'parents_in_house', \n",
    "                                 'schoolyr':'mem_in_school', 'w1q38':'hs_type', 'w1q39a':'sports', 'w1q173':'religion',\n",
    "                                 'w1q177':'home_ownership', 'w1q179':'household_income', 'w1q180':'public_assistance',\n",
    "                                 'w1q181':'apply_finaid'})"
   ]
  },
  {
   "cell_type": "code",
   "execution_count": 2847,
   "metadata": {
    "collapsed": false
   },
   "outputs": [],
   "source": [
    "#select variables indicating how many ap tests student passed, create variable indicating whether or not they passed\n",
    "ap_cols = ['w1q62a', 'w1q62b', 'w1q62c', 'w1q62d', 'w1q62e', 'w1q62f',\n",
    "       'w1q62g', 'w1q62h', 'w1q62i', 'w1q62j']\n",
    "\n",
    "for ap in ap_cols:\n",
    "    df_pre.loc[~(df_pre[ap].isnull()), ap] = 1\n",
    "    df_pre[ap] = df_pre[ap].fillna(0)\n",
    "    "
   ]
  },
  {
   "cell_type": "code",
   "execution_count": 2848,
   "metadata": {
    "collapsed": false
   },
   "outputs": [],
   "source": [
    "#sum the number of ap tests passed\n",
    "df_pre['ap_tests'] = (df_pre.w1q62a + df_pre.w1q62b + df_pre.w1q62c +df_pre.w1q62d+df_pre.w1q62e+df_pre.w1q62f+\n",
    "                      df_pre.w1q62g + df_pre.w1q62h + df_pre.w1q62i + df_pre.w1q62j)"
   ]
  },
  {
   "cell_type": "code",
   "execution_count": 2849,
   "metadata": {
    "collapsed": false
   },
   "outputs": [],
   "source": [
    "df_pre = df_pre.drop(ap_cols, axis = 1)"
   ]
  },
  {
   "cell_type": "code",
   "execution_count": 2850,
   "metadata": {
    "collapsed": true
   },
   "outputs": [],
   "source": [
    "#clean variables and rename entries based on variable definition PDF\n",
    "df_pre['college'] = df_pre.college.map({1:'Liberal Arts', 2:'Private Research', 3:'Public Research'})\n",
    "df_pre['us_born'] = df_pre.us_born.map({1:'Y', 2:'N', 996:'N', 998: 'N', 997: 'N'})\n",
    "df_pre['hs_type'] = df_pre.hs_type.map({'01':'Public', '02':'Private Religious', '03':'Private Non Religious', \n",
    "                                        '04': 'Home School', '08': 'Seminary', '98': 'Other', '99': 'Other'})\n",
    "df_pre['sports'] = df_pre.sports.map({1:1, 2:2, 3:3, 4:4, 5:5, 8:1, 7:1})\n",
    "df_pre['religion'] = df_pre.religion.map({'01':'Catholic', '02':'Protestant', '03':'Jew', \n",
    "                                        '04': 'Muslim', '05': 'Hindu', '06': 'Buddhist', '07': 'Greek Orthodox', '08':'Protestant +',\n",
    "                                         '09':'Jainism', '10':'Unitarian', '11':'Jehovah', '12':'Other', '13':'Other', \n",
    "                                         '14':'Other', '77': 'Other', '94':'Other', '95':'None', '96':'Agnostic', '98':'Other',\n",
    "                                         '97':'Other'})\n",
    "df_pre['home_ownership'] = df_pre.home_ownership.map({1:'Y', 5:'N', 8:'U', 7:'U'})\n",
    "df_pre['household_income'] = df_pre.household_income.map({1:1, 2:2, 3:3, 4:4, 5:5, 6:6, 7:7, 8:8, 9:9, 10:10, 11:11,\n",
    "                                                         12:12, 13:13, 14:14})\n",
    "df_pre['household_income'] = df_pre.household_income.fillna(df_pre.household_income.mean())\n",
    "df_pre['public_assistance'] = df_pre.public_assistance.map({1:'Y', 5:'N', 8:'U', 7:'U'})\n",
    "df_pre['apply_finaid'] = df_pre.apply_finaid.map({1:'Y', 5:'N', 8:'U', 7:'U'})\n",
    "\n"
   ]
  },
  {
   "cell_type": "code",
   "execution_count": 2851,
   "metadata": {
    "collapsed": false
   },
   "outputs": [],
   "source": [
    "#create dummy variables for categorical variables\n",
    "cat_vars = [\n",
    " u'college',\n",
    " u'sex',\n",
    " 'ethnicity',\n",
    " 'us_born',\n",
    " 'hs_type',\n",
    " 'religion',\n",
    " 'home_ownership',\n",
    " 'public_assistance',\n",
    " 'apply_finaid']\n",
    "topCatsNum = 10\n",
    "for var in cat_vars:\n",
    "    top = df_pre[var].value_counts()[:topCatsNum].index\n",
    "    df_pre[var].fillna('missing', inplace=True)\n",
    "    df_pre.loc[~df_pre[var].isin(top), var] = 'other'\n",
    "    dummies = pd.get_dummies(df_pre[var], prefix=var)\n",
    "    dummies.columns = [col.replace(' ', '_') for col in dummies.columns]\n",
    "    df_pre = pd.concat([df_pre,dummies],axis=1)\n",
    "    del df_pre[var]"
   ]
  },
  {
   "cell_type": "code",
   "execution_count": 2852,
   "metadata": {
    "collapsed": false
   },
   "outputs": [],
   "source": [
    "#fill missing values of continuous variables with the mean\n",
    "df_pre.loc[df_pre.hsizelyr.isnull(), 'hsizelyr'] = df_pre.hsizelyr.mean()\n",
    "df_pre.loc[df_pre.lforclyr.isnull(), 'lforclyr'] = df_pre.lforclyr.mean()\n",
    "df_pre.loc[df_pre.parents_in_house.isnull(), 'parents_in_house'] = df_pre.parents_in_house.mean()\n",
    "df_pre.loc[df_pre.depndlyr.isnull(), 'depndlyr'] = df_pre.depndlyr.mean()\n",
    "df_pre.loc[df_pre.ysiblyr.isnull(), 'ysiblyr'] = df_pre.ysiblyr.mean()\n",
    "df_pre.loc[df_pre.osiblyr.isnull(), 'osiblyr'] = df_pre.osiblyr.mean()\n",
    "df_pre.loc[df_pre.mem_in_school.isnull(), 'mem_in_school'] = df_pre.mem_in_school.mean()\n",
    "#fill missing sports variable with 1: student did not participate in many sports in HS\n",
    "df_pre.loc[df_pre.sports.isnull(), 'sports'] = 1"
   ]
  },
  {
   "cell_type": "code",
   "execution_count": 2853,
   "metadata": {
    "collapsed": true
   },
   "outputs": [],
   "source": [
    "#convert object types to numeric and fill missing values of categorical variables with 0\n",
    "dtypeDict = df_pre.dtypes.to_dict()\n",
    "for col in dtypeDict:\n",
    "    if dtypeDict[col] == 'object':\n",
    "        df_pre[col] = df_pre[col].convert_objects(convert_numeric=True).fillna(0)"
   ]
  },
  {
   "cell_type": "code",
   "execution_count": 2854,
   "metadata": {
    "collapsed": false
   },
   "outputs": [],
   "source": [
    "#merge pre freshmen and supplemental data\n",
    "df_pre = pd.merge(df_pre, sup_info, left_on = 'caseid', right_on = 'caseid', how = 'left', copy = False)"
   ]
  },
  {
   "cell_type": "code",
   "execution_count": 2917,
   "metadata": {
    "collapsed": true
   },
   "outputs": [],
   "source": [
    "#merge data from all 4 years\n",
    "df2 = pd.merge(df_pre, frosh, left_on = 'caseid', right_on = 'caseid', how = 'left', copy = False)\n",
    "df2 = pd.merge(df2, soph, left_on = 'caseid', right_on = 'caseid', how = 'left', copy = False)\n",
    "df2 = pd.merge(df2, junior, left_on = 'caseid', right_on = 'caseid', how = 'left', copy = False)\n",
    "df2 = pd.merge(df2, grad[['caseid', 'overallg', 'gradcode']], left_on = 'caseid', right_on = 'caseid', how = 'left', copy = False)"
   ]
  },
  {
   "cell_type": "code",
   "execution_count": 2918,
   "metadata": {
    "collapsed": false
   },
   "outputs": [],
   "source": [
    "#students who left at some point freshman year\n",
    "frosh_dropout = df2[df2.w4q2.isin([1,2,3,4])].caseid.tolist()\n",
    "#students who left at some point soph year\n",
    "soph_dropout = df2[df2.w4q2.isin([5,6,7])].caseid.tolist()\n",
    "#students who left at some point junior year\n",
    "junior_dropout = df2[df2.w4q2.isin([8,9,10,11])].caseid.tolist()\n",
    "#students who still have not graduated in 6 years, no record of them graduating was found, or confirmed dropped out\n",
    "no_grad = df2[df2.overallg == 0].caseid.tolist()"
   ]
  },
  {
   "cell_type": "code",
   "execution_count": 2919,
   "metadata": {
    "collapsed": false
   },
   "outputs": [
    {
     "name": "stdout",
     "output_type": "stream",
     "text": [
      "# dropouts freshman year: 9\n",
      "# dropouts sophomore year: 33\n",
      "# dropouts junior year: 28\n"
     ]
    }
   ],
   "source": [
    "#find number of students who left in each year and did not return\n",
    "yr1 = len(frosh[((frosh.caseid.isin(frosh_dropout)) & (frosh.caseid.isin(no_grad)))])\n",
    "yr2 = len(soph[((soph.caseid.isin(soph_dropout)) & (soph.caseid.isin(no_grad)))])\n",
    "yr3 = len(junior[((junior.caseid.isin(junior_dropout)) & (junior.caseid.isin(no_grad)))])\n",
    "\n",
    "print '# dropouts freshman year:', yr1\n",
    "print '# dropouts sophomore year:', yr2\n",
    "print '# dropouts junior year:', yr3\n"
   ]
  },
  {
   "cell_type": "code",
   "execution_count": 2920,
   "metadata": {
    "collapsed": false
   },
   "outputs": [
    {
     "name": "stdout",
     "output_type": "stream",
     "text": [
      "# dropouts senior year and beyond: 457\n"
     ]
    }
   ],
   "source": [
    "yr4 = len(no_grad) - yr1 - yr2 - yr3\n",
    "print '# dropouts senior year and beyond:', yr4"
   ]
  },
  {
   "cell_type": "code",
   "execution_count": 2921,
   "metadata": {
    "collapsed": false
   },
   "outputs": [
    {
     "data": {
      "text/plain": [
       "<matplotlib.axes._subplots.AxesSubplot at 0x11beb00d0>"
      ]
     },
     "execution_count": 2921,
     "metadata": {},
     "output_type": "execute_result"
    },
    {
     "data": {
      "image/png": "[encoded data removed]",
      "text/plain": [
       "<matplotlib.figure.Figure at 0x11beb0510>"
      ]
     },
     "metadata": {},
     "output_type": "display_data"
    }
   ],
   "source": [
    "#plot dropout per year\n",
    "d = {'Year':['Fresh', 'Soph', 'Junior', 'Senior +'], 'Dropouts':[yr1, yr2, yr3, yr4]}\n",
    "df_dropout = pd.DataFrame(d)\n",
    "df_dropout.plot(kind='bar', x = 'Year', y = 'Dropouts')"
   ]
  },
  {
   "cell_type": "code",
   "execution_count": 2922,
   "metadata": {
    "collapsed": false
   },
   "outputs": [],
   "source": [
    "#remove students who dropped out freshmen or sophomore year\n",
    "df2 = df2[~((df2.caseid.isin(soph_dropout)) & (df2.caseid.isin(no_grad)))]\n",
    "df2 = df2[~((df2.caseid.isin(frosh_dropout)) & (df2.caseid.isin(no_grad)))]"
   ]
  },
  {
   "cell_type": "code",
   "execution_count": 2923,
   "metadata": {
    "collapsed": false
   },
   "outputs": [],
   "source": [
    "#find number of courses student registered in fall and spring and rename columns\n",
    "df2['w2q4'] = df2.w2q4.fillna(0)\n",
    "df2['w3q8'] = df2.w3q8.fillna(0)\n",
    "df2['w3q12'] = df2.w3q12.fillna(0)\n",
    "df2['w3q14'] = df2.w3q16.fillna(0)\n",
    "\n",
    "df2 = df2.rename(columns = {'w2q4':'courses_reg_f_fall', 'w3q8':'courses_reg_f_spring', 'w3q12':'courses_reg_s_fall',\n",
    "                           'w3q14':'courses_reg_s_spring'})"
   ]
  },
  {
   "cell_type": "code",
   "execution_count": 2924,
   "metadata": {
    "collapsed": false
   },
   "outputs": [],
   "source": [
    "#create variable of whether or not student missed semesters based on if they registered for 0 classes\n",
    "df2['out_f_fall'] = 0\n",
    "df2.loc[df2.courses_reg_f_fall == 0, 'out_f_fall'] = 1\n",
    "\n",
    "df2['out_f_spring'] = 0\n",
    "df2.loc[df2.courses_reg_f_spring == 0, 'out_f_spring'] = 1\n",
    "\n",
    "df2['out_s_fall'] = 0\n",
    "df2.loc[df2.courses_reg_s_fall == 0, 'out_s_fall'] = 1\n",
    "\n",
    "df2['out_s_spring'] = 0\n",
    "df2.loc[df2.courses_reg_s_spring == 0, 'out_s_spring'] = 1"
   ]
  },
  {
   "cell_type": "code",
   "execution_count": 2925,
   "metadata": {
    "collapsed": true
   },
   "outputs": [],
   "source": [
    "#sum missed semesters in first two years\n",
    "df2['missed_sems'] = df2[['out_f_fall', 'out_f_spring', 'out_s_fall', 'out_s_spring']].sum(axis = 1)"
   ]
  },
  {
   "cell_type": "code",
   "execution_count": 2927,
   "metadata": {
    "collapsed": true
   },
   "outputs": [],
   "source": [
    "#processing and cleaning variables for which classes student completed\n",
    "classes = []\n",
    "\n",
    "for i in range(10):\n",
    "    alpha = string.ascii_lowercase\n",
    "    col = 'w2q5d' + alpha[i]\n",
    "    classes.append(col)\n",
    "    \n",
    "    alpha = string.ascii_lowercase\n",
    "    col = 'w3q9' + alpha[i] + '4'\n",
    "    classes.append(col)\n",
    "    \n",
    "    alpha = string.ascii_lowercase\n",
    "    col = 'w3q13' + alpha[i] + '4'\n",
    "    classes.append(col)\n",
    "    \n",
    "    alpha = string.ascii_lowercase\n",
    "    col = 'w3q17' + alpha[i] + '4'\n",
    "    classes.append(col) \n",
    "\n",
    "for item in classes:\n",
    "    df2[item] = df2[item].map({1:1, 2:1, 3:0, 8:0, 7:0})  "
   ]
  },
  {
   "cell_type": "code",
   "execution_count": 2928,
   "metadata": {
    "collapsed": false
   },
   "outputs": [],
   "source": [
    "#create variable for classes completed, classes registered, classes dropped, and percentage of classes ropped\n",
    "df2['classes_completed'] = df2[classes].sum(axis = 1)\n",
    "df2['classes_registered'] = df2[['courses_reg_f_fall', 'courses_reg_f_spring', 'courses_reg_s_fall', 'courses_reg_s_spring']].sum(axis = 1)\n",
    "df2['dropped_classes'] = df2.classes_registered - df2.classes_completed\n",
    "df2['pct_classes_dropped'] = df2.dropped_classes / df2.classes_registered"
   ]
  },
  {
   "cell_type": "code",
   "execution_count": 2929,
   "metadata": {
    "collapsed": false
   },
   "outputs": [],
   "source": [
    "#remove students who didn't complete any classes in first two years. These students resumed/started their classes in \n",
    "#second two years so not relevant for this analysis\n",
    "df2 = df2[~((df2.classes_registered == 0) | (df2.classes_completed == 0))]"
   ]
  },
  {
   "cell_type": "code",
   "execution_count": 2930,
   "metadata": {
    "collapsed": false
   },
   "outputs": [],
   "source": [
    "#preprocessing and cleaning grades variables\n",
    "grades = []\n",
    "\n",
    "for i in range(10):\n",
    "    alpha = string.ascii_lowercase\n",
    "    col = 'w2q5e' + alpha[i]\n",
    "    grades.append(col)\n",
    "    \n",
    "    alpha = string.ascii_lowercase\n",
    "    col = 'w3q9' + alpha[i] + '5'\n",
    "    grades.append(col)\n",
    "    \n",
    "    alpha = string.ascii_lowercase\n",
    "    col = 'w3q13' + alpha[i] + '5'\n",
    "    grades.append(col)\n",
    "    \n",
    "    alpha = string.ascii_lowercase\n",
    "    col = 'w3q17' + alpha[i] + '5'\n",
    "    grades.append(col) \n",
    "#code equivlent GPA scores\n",
    "for item in grades:\n",
    "    df2[item] = df2[item].map({1:4, 2:3.7, 3:3.3, 4:3, 5:2.7, 6:2.3, 7:2, 8:1.7, 9:1.3, 10:1, 11:0.7, \n",
    "                                            12:0, 13:0, 14:2, 15:0, 16:2, 17:2, 18:0, 995:2, 777:0, 998:0, 997:0, 999:0})\n",
    "    df2[item] = df2[item].fillna(0)"
   ]
  },
  {
   "cell_type": "code",
   "execution_count": 2931,
   "metadata": {
    "collapsed": true
   },
   "outputs": [],
   "source": [
    "#calculate GPA\n",
    "df2['gpa'] = df2[grades].sum(axis = 1) / df2['classes_completed']"
   ]
  },
  {
   "cell_type": "code",
   "execution_count": 2932,
   "metadata": {
    "collapsed": true
   },
   "outputs": [],
   "source": [
    "#add indicator of whether student dropped out after sophomore year\n",
    "df2['drop_out'] = 0\n",
    "df2.loc[df2.caseid.isin(no_grad), 'drop_out'] = 1"
   ]
  },
  {
   "cell_type": "code",
   "execution_count": 2933,
   "metadata": {
    "collapsed": true
   },
   "outputs": [],
   "source": [
    "#rename freshman financial variables\n",
    "df2 = df2.rename(columns = {'w2q25':'f_college_cost_est', 'w2q26a':'f_parent_contribution', 'w2q26b':'f_fam_contribution',\n",
    "                           'w2q26c':'f_uni_grant', 'w2q26d':'f_other_grant', 'w2q26e':'f_student_loan', 'w2q26f':'f_savings',\n",
    "                           'w2q26g':'f_work_study', 'w2q26h':'f_other_work', 'w2q26i':'f_other_funds', 'w2q26j':'f_credit_card',\n",
    "                           'w2q27':'f_have_job', 'w2q28b':'f_work_hrs_week', 'w2q28c':'f_wage', 'w2q28e':'f_finaid_work'})"
   ]
  },
  {
   "cell_type": "code",
   "execution_count": 2934,
   "metadata": {
    "collapsed": false
   },
   "outputs": [],
   "source": [
    "#fill null responses with median\n",
    "df2.loc[(df2.f_college_cost_est.isin([999998, 999997])) | (df2.f_college_cost_est.isnull()), \n",
    "        'f_college_cost_est'] = df2.f_college_cost_est.median()\n",
    "df2.loc[(df2.f_parent_contribution.isin([999998, 999997])) | (df2.f_parent_contribution.isnull()), \n",
    "        'f_parent_contribution'] = df2.f_parent_contribution.median()\n",
    "df2.loc[(df2.f_fam_contribution.isin([999998, 999997])) | (df2.f_fam_contribution.isnull()), \n",
    "        'f_fam_contribution'] = df2.f_fam_contribution.median()\n",
    "df2.loc[(df2.f_uni_grant.isin([999998, 999997])) | (df2.f_uni_grant.isnull()), \n",
    "        'f_uni_grant'] = df2.f_uni_grant.median()\n",
    "df2.loc[(df2.f_other_grant.isin([999998, 999997])) | (df2.f_other_grant.isnull()), \n",
    "        'f_other_grant'] = df2.f_other_grant.median()\n",
    "df2.loc[(df2.f_student_loan.isin([999998, 999997])) | (df2.f_student_loan.isnull()), \n",
    "        'f_student_loan'] = df2.f_student_loan.median()\n",
    "df2.loc[(df2.f_savings.isin([999998, 999997])) | (df2.f_savings.isnull()), \n",
    "        'f_savings'] = df2.f_savings.median()\n",
    "df2.loc[(df2.f_work_study.isin([999998, 999997])) | (df2.f_work_study.isnull()), \n",
    "        'f_work_study'] = df2.f_work_study.median()\n",
    "df2.loc[(df2.f_other_work.isin([999998, 999997])) | (df2.f_other_work.isnull()), \n",
    "        'f_other_work'] = df2.f_other_work.median()\n",
    "df2.loc[(df2.f_other_funds.isin([999998, 999997])) | (df2.f_other_funds.isnull()), \n",
    "        'f_other_funds'] = df2.f_other_funds.median()"
   ]
  },
  {
   "cell_type": "code",
   "execution_count": 2935,
   "metadata": {
    "collapsed": true
   },
   "outputs": [],
   "source": [
    "#clean freshman financial data more\n",
    "df2.loc[df2.f_credit_card != 1, 'f_credit_card'] = 0\n",
    "df2.loc[df2.f_have_job != 1, 'f_have_job'] = 0\n",
    "df2.loc[(df2.f_work_hrs_week == 98) | (df2.f_work_hrs_week == 97), 'f_work_hrs_week'] = df2.f_work_hrs_week.median()\n",
    "df2['f_work_hrs_week'] = df2.f_work_hrs_week.fillna(0)\n",
    "\n",
    "df2.loc[(df2.f_wage == 998) | (df2.f_wage == 997), 'f_wage'] = df2.f_wage.median()\n",
    "df2['f_wage'] = df2.f_wage.fillna(0)\n",
    "\n",
    "df2.loc[df2.f_finaid_work != 1, 'f_finaid_work'] = 0"
   ]
  },
  {
   "cell_type": "code",
   "execution_count": 2936,
   "metadata": {
    "collapsed": true
   },
   "outputs": [],
   "source": [
    "#calculate total contributions toward college expenses outside of jobs. Focus on money that don't conflict with time in \n",
    "#classes/academics\n",
    "df2['f_total_contribution'] = df2[['f_parent_contribution', 'f_fam_contribution', 'f_uni_grant', 'f_other_grant', \n",
    "                                  'f_student_loan', 'f_savings']].sum(axis = 1)"
   ]
  },
  {
   "cell_type": "code",
   "execution_count": 2937,
   "metadata": {
    "collapsed": true
   },
   "outputs": [],
   "source": [
    "import numpy as np"
   ]
  },
  {
   "cell_type": "code",
   "execution_count": 2938,
   "metadata": {
    "collapsed": false
   },
   "outputs": [],
   "source": [
    "#calculate freshmen cost gap and funding gap\n",
    "df2['f_cost_gap'] = df2.f_college_cost_est - df2.f_total_contribution\n",
    "df2['f_gap_pct'] = df2.f_cost_gap / df2.f_college_cost_est\n",
    "df2.loc[df2.f_gap_pct == -np.inf, 'f_gap_pct'] = 0"
   ]
  },
  {
   "cell_type": "code",
   "execution_count": 2939,
   "metadata": {
    "collapsed": true
   },
   "outputs": [],
   "source": [
    "#calculate total grants received freshman year\n",
    "df2['f_total_grants'] = df2.f_uni_grant + df2.f_other_grant"
   ]
  },
  {
   "cell_type": "code",
   "execution_count": 2940,
   "metadata": {
    "collapsed": true
   },
   "outputs": [],
   "source": [
    "#repeat above for sophomore year\n",
    "df2 = df2.rename(columns = {'w3q52':'s_college_cost_est', 'w3q53a':'s_parent_contribution', 'w3q53b':'s_fam_contribution',\n",
    "                           'w3q53c':'s_uni_grant', 'w3q53d':'s_other_grant', 'w3q53e':'s_student_loan', 'w3q53f':'s_savings',\n",
    "                           'w3q53g':'s_work_study', 'w3q53h':'s_other_work', 'w3q53i':'s_other_funds', 'w3q53j':'s_credit_card',\n",
    "                           'w3q54':'s_have_job', 'w3q54b':'s_work_hrs_week', 'w3q52c':'s_wage', 'w3q54d':'s_finaid_work'})"
   ]
  },
  {
   "cell_type": "code",
   "execution_count": 2941,
   "metadata": {
    "collapsed": true
   },
   "outputs": [],
   "source": [
    "df2.loc[(df2.s_college_cost_est.isin([999998, 999997])) | (df2.s_college_cost_est.isnull()), \n",
    "        's_college_cost_est'] = df2.s_college_cost_est.median()\n",
    "df2.loc[(df2.s_parent_contribution.isin([999998, 999997])) | (df2.s_parent_contribution.isnull()), \n",
    "        's_parent_contribution'] = df2.s_parent_contribution.median()\n",
    "df2.loc[(df2.s_fam_contribution.isin([999998, 999997])) | (df2.s_fam_contribution.isnull()), \n",
    "        's_fam_contribution'] = df2.s_fam_contribution.median()\n",
    "df2.loc[(df2.s_uni_grant.isin([999998, 999997])) | (df2.s_uni_grant.isnull()), \n",
    "        's_uni_grant'] = df2.s_uni_grant.median()\n",
    "df2.loc[(df2.s_other_grant.isin([999998, 999997])) | (df2.s_other_grant.isnull()), \n",
    "        's_other_grant'] = df2.s_other_grant.median()\n",
    "df2.loc[(df2.s_student_loan.isin([999998, 999997])) | (df2.s_student_loan.isnull()), \n",
    "        's_student_loan'] = df2.s_student_loan.median()\n",
    "df2.loc[(df2.s_savings.isin([999998, 999997])) | (df2.s_savings.isnull()), \n",
    "        's_savings'] = df2.s_savings.median()\n",
    "df2.loc[(df2.s_work_study.isin([999998, 999997])) | (df2.s_work_study.isnull()), \n",
    "        'f_work_study'] = df2.f_work_study.median()\n",
    "df2.loc[(df2.s_other_work.isin([999998, 999997])) | (df2.s_other_work.isnull()), \n",
    "        's_other_work'] = df2.s_other_work.median()\n",
    "df2.loc[(df2.s_other_funds.isin([999998, 999997])) | (df2.s_other_funds.isnull()), \n",
    "        's_other_funds'] = df2.s_other_funds.median()"
   ]
  },
  {
   "cell_type": "code",
   "execution_count": 2942,
   "metadata": {
    "collapsed": true
   },
   "outputs": [],
   "source": [
    "df2.loc[df2.s_credit_card != 1, 's_credit_card'] = 0\n",
    "df2.loc[df2.s_have_job != 1, 's_have_job'] = 0\n",
    "df2.loc[(df2.s_work_hrs_week == 98) | (df2.s_work_hrs_week == 97), 's_work_hrs_week'] = df2.s_work_hrs_week.median()\n",
    "df2['s_work_hrs_week'] = df2.s_work_hrs_week.fillna(0)\n",
    "\n",
    "df2.loc[(df2.s_wage == 998) | (df2.s_wage == 997), 's_wage'] = df2.s_wage.median()\n",
    "df2['s_wage'] = df2.s_wage.fillna(0)\n",
    "\n",
    "df2.loc[df2.s_finaid_work != 1, 's_finaid_work'] = 0"
   ]
  },
  {
   "cell_type": "code",
   "execution_count": 2943,
   "metadata": {
    "collapsed": true
   },
   "outputs": [],
   "source": [
    "df2['s_total_contribution'] = df2[['s_parent_contribution', 's_fam_contribution', 's_uni_grant', 's_other_grant', \n",
    "                                  's_student_loan', 's_savings']].sum(axis = 1)"
   ]
  },
  {
   "cell_type": "code",
   "execution_count": 2944,
   "metadata": {
    "collapsed": true
   },
   "outputs": [],
   "source": [
    "df2['s_cost_gap'] = df2.s_college_cost_est - df2.s_total_contribution\n",
    "df2['s_gap_pct'] = df2.s_cost_gap / df2.s_college_cost_est\n",
    "df2.loc[df2.s_gap_pct == -np.inf, 's_gap_pct'] = 0"
   ]
  },
  {
   "cell_type": "code",
   "execution_count": 2945,
   "metadata": {
    "collapsed": true
   },
   "outputs": [],
   "source": [
    "df2['s_total_grants'] = df2.s_uni_grant + df2.s_other_grant"
   ]
  },
  {
   "cell_type": "code",
   "execution_count": 2946,
   "metadata": {
    "collapsed": true
   },
   "outputs": [],
   "source": [
    "#rename variables for whether parents went to college\n",
    "df2 = df2.rename(columns = {'w3q79':'mom_college', 'w3q81':'dad_college'})"
   ]
  },
  {
   "cell_type": "code",
   "execution_count": 2947,
   "metadata": {
    "collapsed": true
   },
   "outputs": [],
   "source": [
    "df2.loc[df2.mom_college != 1, 'mom_college'] = 0\n",
    "df2.loc[df2.dad_college != 1, 'dad_college'] = 0"
   ]
  },
  {
   "cell_type": "code",
   "execution_count": 2948,
   "metadata": {
    "collapsed": true
   },
   "outputs": [],
   "source": [
    "###add interference variables and sum: distractions from outside of school\n",
    "df2 = df2.rename(columns = {'w2q24a':'f_parents_moved', 'w2q24b':'f_parent_married', 'w2q24c':'f_parents_div', \n",
    "                           'w2q24d':'f_parent_lost_job', 'w2qq24d':'f_which_parent_lost_job', 'w2q24f':'f_ill', \n",
    "                           'w2q24g':'f_sis_preg', 'w2q24h':'f_sib_dropout', 'w2q24i':'f_parent_on_pa', \n",
    "                            'w2q24j':'f_fam_on_pa', 'w2q24k':'f_fam_on_drugs', 'w2q24l':'f_fam_rehab', \n",
    "                            'w2q24m':'f_fam_crime_victim', 'w2q24n':'f_fam_arrested', 'w2q24o':'f_fam_ill', \n",
    "                           'w2q24p':'f_fam_homeless', 'w2q24q':'f_parent_died', 'w2qq24q':'f_which_parent_died',\n",
    "                           'w2q24r':'f_relative_die'})"
   ]
  },
  {
   "cell_type": "code",
   "execution_count": 2949,
   "metadata": {
    "collapsed": true
   },
   "outputs": [],
   "source": [
    "f_interference = ['f_parents_div', \n",
    "                           'f_parent_lost_job','f_ill', \n",
    "                           'f_sis_preg', 'f_sib_dropout', 'f_parent_on_pa', \n",
    "                            'f_fam_on_pa', 'f_fam_on_drugs', 'f_fam_rehab', \n",
    "                            'f_fam_crime_victim', 'f_fam_arrested', 'f_fam_ill', \n",
    "                           'f_fam_homeless', 'f_parent_died',\n",
    "                           'f_relative_die']"
   ]
  },
  {
   "cell_type": "code",
   "execution_count": 2950,
   "metadata": {
    "collapsed": true
   },
   "outputs": [],
   "source": [
    "for item in f_interference:\n",
    "    df2.loc[(df2[item].isin([5,8])) | (df2[item].isnull()), item] = 0\n",
    "    df2.loc[(df2[item] == 7), item] = 1\n",
    "\n",
    "df2.loc[df2.f_which_parent_lost_job == 3, 'f_parent_lost_job'] = 2\n",
    "df2.loc[df2.f_which_parent_died == 3, 'f_parent_died'] = 2"
   ]
  },
  {
   "cell_type": "code",
   "execution_count": 2951,
   "metadata": {
    "collapsed": true
   },
   "outputs": [],
   "source": [
    "#sum total interference student experienced\n",
    "df2['f_total_interference'] = df2[f_interference].sum(axis = 1)"
   ]
  },
  {
   "cell_type": "code",
   "execution_count": 2952,
   "metadata": {
    "collapsed": true
   },
   "outputs": [],
   "source": [
    "df2 = df2.rename(columns = {'w3q51a':'s_parents_moved', 'w3q51b':'s_parent_married', 'w3q51c':'s_parents_div', \n",
    "                           'w3q51d':'s_parent_lost_job', 'w3q51dx':'s_which_parent_lost_job', 'w3q51f':'s_ill', \n",
    "                           'w3q51g':'s_sis_preg', 'w3q51h':'s_sib_dropout', \n",
    "                            'w3q51i':'s_fam_on_pa', 'w3q51j':'s_fam_on_drugs', 'w3q51k':'s_fam_rehab', \n",
    "                            'w3q51l':'s_fam_crime_victim', 'w3q51m':'s_fam_arrested', 'w3q51n':'s_fam_ill', \n",
    "                           'w3q51o':'s_fam_homeless', 'w3q51p':'s_parent_died', 'w3q51px':'s_which_parent_died',\n",
    "                           'w3q51q':'s_relative_die', 'w3q51r':'s_extended_fam_die', 'w3q51s': 's_friend_die'})"
   ]
  },
  {
   "cell_type": "code",
   "execution_count": 2953,
   "metadata": {
    "collapsed": true
   },
   "outputs": [],
   "source": [
    "s_interference = ['s_parents_div', \n",
    "                           's_parent_lost_job', 's_which_parent_lost_job', 's_ill', \n",
    "                           's_sis_preg', 's_sib_dropout', \n",
    "                            's_fam_on_pa', 's_fam_on_drugs', 's_fam_rehab', \n",
    "                            's_fam_crime_victim', 's_fam_arrested', 's_fam_ill', \n",
    "                           's_fam_homeless', 's_parent_died', 's_which_parent_died',\n",
    "                           's_relative_die', 's_extended_fam_die', 's_friend_die']"
   ]
  },
  {
   "cell_type": "code",
   "execution_count": 2954,
   "metadata": {
    "collapsed": false
   },
   "outputs": [],
   "source": [
    "for item in s_interference:\n",
    "    df2.loc[(df2[item].isin([5,8])) | (df2[item].isnull()), item] = 0\n",
    "    df2.loc[(df2[item] == 7), item] = 1\n",
    "\n",
    "df2.loc[df2.s_which_parent_lost_job == 3, 's_parent_lost_job'] = 2\n",
    "df2.loc[df2.s_which_parent_died == 3, 's_parent_died'] = 2"
   ]
  },
  {
   "cell_type": "code",
   "execution_count": 2955,
   "metadata": {
    "collapsed": true
   },
   "outputs": [],
   "source": [
    "#sum total interference student experienced\n",
    "df2['s_total_interference'] = df2[s_interference].sum(axis = 1)"
   ]
  },
  {
   "cell_type": "code",
   "execution_count": 2956,
   "metadata": {
    "collapsed": true
   },
   "outputs": [],
   "source": [
    "#household income at end of sophomore year\n",
    "df2 = df2.rename(columns = {'w3q86': 's_household_income'})"
   ]
  },
  {
   "cell_type": "code",
   "execution_count": 2957,
   "metadata": {
    "collapsed": true
   },
   "outputs": [],
   "source": [
    "df2['s_household_income'] = df2.s_household_income.map({1:1, 2:2, 3:3, 4:4, 5:5, 6:6, 7:7, 8:8, 9:9, 10:10, 11:11})\n",
    "df2['s_household_income'] = df2.s_household_income.fillna(df2.s_household_income.mean())"
   ]
  },
  {
   "cell_type": "code",
   "execution_count": 2958,
   "metadata": {
    "collapsed": true
   },
   "outputs": [],
   "source": [
    "##cleaning perceptions of prejudice variables\n",
    "f_prejudice = []\n",
    "for num in range(39, 51):\n",
    "    question = 'w2q' + str(num)\n",
    "    f_prejudice.append(question)"
   ]
  },
  {
   "cell_type": "code",
   "execution_count": 2959,
   "metadata": {
    "collapsed": false
   },
   "outputs": [],
   "source": [
    "for item in f_prejudice:\n",
    "    df2.loc[df2[item].isin([8]), item] = 0\n",
    "    df2.loc[df2[item] == 7, item] = 5\n",
    "    df2[item] = df2[item].fillna(0)"
   ]
  },
  {
   "cell_type": "code",
   "execution_count": 2960,
   "metadata": {
    "collapsed": true
   },
   "outputs": [],
   "source": [
    "s_prejudice = []\n",
    "for num in range(60, 72):\n",
    "    question = 'w3q' + str(num)\n",
    "    s_prejudice.append(question)"
   ]
  },
  {
   "cell_type": "code",
   "execution_count": 2961,
   "metadata": {
    "collapsed": true
   },
   "outputs": [],
   "source": [
    "for item in s_prejudice:\n",
    "    df2.loc[df2[item].isin([8]), item] = 0\n",
    "    df2.loc[df2[item] == 7, item] = 5\n",
    "    df2[item] = df2[item].fillna(0)"
   ]
  },
  {
   "cell_type": "code",
   "execution_count": 2962,
   "metadata": {
    "collapsed": true
   },
   "outputs": [],
   "source": [
    "df2['prejudice_score'] = df2[f_prejudice + s_prejudice].sum(axis = 1)"
   ]
  },
  {
   "cell_type": "code",
   "execution_count": 2963,
   "metadata": {
    "collapsed": true
   },
   "outputs": [],
   "source": [
    "#cleaning mental state variables\n",
    "df2 = df2.rename(columns = {'w2q32a':'f_not_doing_well', 'w2q32b':'f_problems_finaid', 'w2q34':'f_effort', \n",
    "                            'w3q44a':'s_not_doing_well', 'w3q44b':'s_problems_finaid', 'w3q45':'s_effort'})"
   ]
  },
  {
   "cell_type": "code",
   "execution_count": 2964,
   "metadata": {
    "collapsed": true
   },
   "outputs": [],
   "source": [
    "df2.loc[(df2.f_not_doing_well.isin([98, 97])) | (df2.f_not_doing_well.isnull()), 'f_not_doing_well'] = df2.f_not_doing_well.mean()\n",
    "df2.loc[(df2.s_not_doing_well.isin([98, 97])) | (df2.s_not_doing_well.isnull()), 's_not_doing_well'] = df2.s_not_doing_well.mean()\n",
    "df2['not_doing_well_score'] = df2.f_not_doing_well + df2.s_not_doing_well\n",
    "\n",
    "df2.loc[(df2.f_problems_finaid.isin([98, 97])) | (df2.f_problems_finaid.isnull()), 'f_problems_finaid'] = df2.f_problems_finaid.mean()\n",
    "df2.loc[(df2.s_problems_finaid.isin([98, 97])) | (df2.s_problems_finaid.isnull()), 's_problems_finaid'] = df2.s_problems_finaid.mean()\n",
    "df2['problems_finaid_score'] = df2.f_problems_finaid + df2.s_problems_finaid\n",
    "\n",
    "df2.loc[(df2.f_effort.isin([98, 97])) | (df2.f_effort.isnull()), 'f_effort'] = df2.f_effort.mean()\n",
    "df2.loc[(df2.s_effort.isin([98, 97])) | (df2.s_effort.isnull()), 's_effort'] = df2.s_effort.mean()\n",
    "df2['effort_score'] = df2.f_effort + df2.s_effort"
   ]
  },
  {
   "cell_type": "code",
   "execution_count": 2965,
   "metadata": {
    "collapsed": true
   },
   "outputs": [],
   "source": [
    "#sleep and studying per week variables\n",
    "df2 = df2.rename(columns = {'w2q21b':'f_hours_studying', 'w2q21c':'f_hours_extracurricular',\n",
    "                           'w3q40b':'s_hours_studying', 'w3q40k':'s_hours_extracurricular', 'w3q40l':'s_hours_sleeping'})"
   ]
  },
  {
   "cell_type": "code",
   "execution_count": 2966,
   "metadata": {
    "collapsed": false
   },
   "outputs": [],
   "source": [
    "edits = ['f_hours_studying', 'f_hours_extracurricular',\n",
    "                           's_hours_studying', 's_hours_extracurricular', 's_hours_sleeping']\n",
    "for item in edits:\n",
    "    df2.loc[(df2[item].isin([998,997])) | (df2[item].isnull()), item] = df2[item].mean()"
   ]
  },
  {
   "cell_type": "code",
   "execution_count": 2967,
   "metadata": {
    "collapsed": true
   },
   "outputs": [],
   "source": [
    "df2['avg_hrs_studying'] = (df2.f_hours_studying + df2.s_hours_studying)/2\n",
    "df2['avg_hrs_extracurricular'] = (df2.f_hours_extracurricular + df2.s_hours_extracurricular)/2"
   ]
  },
  {
   "cell_type": "code",
   "execution_count": 2968,
   "metadata": {
    "collapsed": true
   },
   "outputs": [],
   "source": [
    "#lonely and homesick, wanna get away from campus variables\n",
    "df2 = df2.rename(columns = {'w2q16h':'f_lonely', 'w3q35h':'s_lonely', 'w2q16i':'f_get_away_campus', 'w3q35i':'s_get_away_campus'})"
   ]
  },
  {
   "cell_type": "code",
   "execution_count": 2969,
   "metadata": {
    "collapsed": false
   },
   "outputs": [],
   "source": [
    "edit = ['f_lonely', 's_lonely', 'f_get_away_campus', 's_get_away_campus']\n",
    "for item in edit:\n",
    "    df2.loc[df2[item] == 98, item] = 0\n",
    "    df2.loc[(df2[item] == 97) | (df2[item].isnull()), item] = df2[item].mean()"
   ]
  },
  {
   "cell_type": "code",
   "execution_count": 2970,
   "metadata": {
    "collapsed": true
   },
   "outputs": [],
   "source": [
    "df2['lonely_score'] = df2.f_lonely + df2.s_lonely\n",
    "df2['get_away_from_campus_score'] = df2.f_get_away_campus + df2.s_get_away_campus"
   ]
  },
  {
   "cell_type": "code",
   "execution_count": 2971,
   "metadata": {
    "collapsed": false
   },
   "outputs": [],
   "source": [
    "#select columns to be \n",
    "cols = df_pre.columns.tolist() + (['gpa', 'classes_completed', 'pct_classes_dropped', 'dropped_classes', 'classes_registered', \n",
    "                                 'missed_sems', 'drop_out', 'f_college_cost_est', 'f_total_contribution', 'f_cost_gap',\n",
    "                                 'f_gap_pct', 'f_parent_contribution', 'f_fam_contribution', 'f_total_grants', 'f_student_loan',\n",
    "                                 'f_credit_card', 'f_have_job', 'f_work_hrs_week', 'f_wage', 'f_finaid_work'] +\n",
    "                                  ['s_college_cost_est', 's_total_contribution', 's_cost_gap',\n",
    "                                 's_gap_pct', 's_parent_contribution', 's_fam_contribution', 's_total_grants', 's_student_loan',\n",
    "                                 's_credit_card', 's_have_job', 's_work_hrs_week', 's_wage', 's_finaid_work'] +\n",
    "                                 ['mom_college', 'dad_college'] + f_interference + ['f_total_interference'] + s_interference+\n",
    "                                 ['s_total_interference', 's_household_income', 'prejudice_score', 'lonely_score', \n",
    "                                 'get_away_from_campus_score', 'effort_score', 'problems_finaid_score', 'not_doing_well_score',\n",
    "                                 'avg_hrs_studying', 'avg_hrs_extracurricular', 's_hours_sleeping']) "
   ]
  },
  {
   "cell_type": "code",
   "execution_count": 2972,
   "metadata": {
    "collapsed": false
   },
   "outputs": [],
   "source": [
    "#use data frame of just test columns\n",
    "df3 = df2[cols]"
   ]
  },
  {
   "cell_type": "code",
   "execution_count": 2973,
   "metadata": {
    "collapsed": false
   },
   "outputs": [
    {
     "data": {
      "text/plain": [
       "3745"
      ]
     },
     "execution_count": 2973,
     "metadata": {},
     "output_type": "execute_result"
    }
   ],
   "source": [
    "len(df3)"
   ]
  },
  {
   "cell_type": "code",
   "execution_count": 2974,
   "metadata": {
    "collapsed": false,
    "scrolled": true
   },
   "outputs": [
    {
     "name": "stderr",
     "output_type": "stream",
     "text": [
      "/anaconda/lib/python2.7/site-packages/ipykernel/__main__.py:2: SettingWithCopyWarning: \n",
      "A value is trying to be set on a copy of a slice from a DataFrame.\n",
      "Try using .loc[row_indexer,col_indexer] = value instead\n",
      "\n",
      "See the caveats in the documentation: http://pandas.pydata.org/pandas-docs/stable/indexing.html#indexing-view-versus-copy\n",
      "  from ipykernel import kernelapp as app\n",
      "/anaconda/lib/python2.7/site-packages/ipykernel/__main__.py:3: SettingWithCopyWarning: \n",
      "A value is trying to be set on a copy of a slice from a DataFrame.\n",
      "Try using .loc[row_indexer,col_indexer] = value instead\n",
      "\n",
      "See the caveats in the documentation: http://pandas.pydata.org/pandas-docs/stable/indexing.html#indexing-view-versus-copy\n",
      "  app.launch_new_instance()\n",
      "/anaconda/lib/python2.7/site-packages/ipykernel/__main__.py:4: SettingWithCopyWarning: \n",
      "A value is trying to be set on a copy of a slice from a DataFrame.\n",
      "Try using .loc[row_indexer,col_indexer] = value instead\n",
      "\n",
      "See the caveats in the documentation: http://pandas.pydata.org/pandas-docs/stable/indexing.html#indexing-view-versus-copy\n",
      "/anaconda/lib/python2.7/site-packages/ipykernel/__main__.py:5: SettingWithCopyWarning: \n",
      "A value is trying to be set on a copy of a slice from a DataFrame.\n",
      "Try using .loc[row_indexer,col_indexer] = value instead\n",
      "\n",
      "See the caveats in the documentation: http://pandas.pydata.org/pandas-docs/stable/indexing.html#indexing-view-versus-copy\n",
      "/anaconda/lib/python2.7/site-packages/ipykernel/__main__.py:6: SettingWithCopyWarning: \n",
      "A value is trying to be set on a copy of a slice from a DataFrame.\n",
      "Try using .loc[row_indexer,col_indexer] = value instead\n",
      "\n",
      "See the caveats in the documentation: http://pandas.pydata.org/pandas-docs/stable/indexing.html#indexing-view-versus-copy\n",
      "/anaconda/lib/python2.7/site-packages/ipykernel/__main__.py:7: SettingWithCopyWarning: \n",
      "A value is trying to be set on a copy of a slice from a DataFrame.\n",
      "Try using .loc[row_indexer,col_indexer] = value instead\n",
      "\n",
      "See the caveats in the documentation: http://pandas.pydata.org/pandas-docs/stable/indexing.html#indexing-view-versus-copy\n",
      "/anaconda/lib/python2.7/site-packages/ipykernel/__main__.py:8: SettingWithCopyWarning: \n",
      "A value is trying to be set on a copy of a slice from a DataFrame.\n",
      "Try using .loc[row_indexer,col_indexer] = value instead\n",
      "\n",
      "See the caveats in the documentation: http://pandas.pydata.org/pandas-docs/stable/indexing.html#indexing-view-versus-copy\n",
      "/anaconda/lib/python2.7/site-packages/ipykernel/__main__.py:9: SettingWithCopyWarning: \n",
      "A value is trying to be set on a copy of a slice from a DataFrame.\n",
      "Try using .loc[row_indexer,col_indexer] = value instead\n",
      "\n",
      "See the caveats in the documentation: http://pandas.pydata.org/pandas-docs/stable/indexing.html#indexing-view-versus-copy\n",
      "/anaconda/lib/python2.7/site-packages/ipykernel/__main__.py:10: SettingWithCopyWarning: \n",
      "A value is trying to be set on a copy of a slice from a DataFrame.\n",
      "Try using .loc[row_indexer,col_indexer] = value instead\n",
      "\n",
      "See the caveats in the documentation: http://pandas.pydata.org/pandas-docs/stable/indexing.html#indexing-view-versus-copy\n"
     ]
    }
   ],
   "source": [
    "#create aggregate variables for first two years\n",
    "df3['total_college_cost'] = df3[['f_college_cost_est', 's_college_cost_est']].sum(axis = 1)\n",
    "df3['total_contribution'] = df3[['f_total_contribution', 's_total_contribution']].sum(axis = 1)\n",
    "df3['total_cost_gap'] = df3[['s_cost_gap', 'f_cost_gap']].sum(axis = 1)\n",
    "df3['total_gap_pct'] = df3.total_cost_gap / df3.total_college_cost\n",
    "df3['total_parent_contribution'] = df3[['f_parent_contribution', 's_parent_contribution']].sum(axis = 1)\n",
    "df3['total_fam_contribution'] = df3.f_fam_contribution + df3.s_fam_contribution\n",
    "df3['total_grants'] = df3.f_total_grants + df3.s_total_grants\n",
    "df3['total_student_loan'] = df3.f_student_loan + df3.s_student_loan\n",
    "df3['total_interference'] = df3.f_total_interference + df3.s_total_interference"
   ]
  },
  {
   "cell_type": "code",
   "execution_count": 2981,
   "metadata": {
    "collapsed": false
   },
   "outputs": [
    {
     "data": {
      "text/plain": [
       "0    354\n",
       "1    111\n",
       "Name: drop_out, dtype: int64"
      ]
     },
     "execution_count": 2981,
     "metadata": {},
     "output_type": "execute_result"
    }
   ],
   "source": [
    "df3[df3.total_cost_gap >= 20000].drop_out.value_counts()"
   ]
  },
  {
   "cell_type": "code",
   "execution_count": 2980,
   "metadata": {
    "collapsed": false
   },
   "outputs": [
    {
     "data": {
      "text/plain": [
       "<matplotlib.axes._subplots.AxesSubplot at 0x12a1b5550>"
      ]
     },
     "execution_count": 2980,
     "metadata": {},
     "output_type": "execute_result"
    },
    {
     "data": {
      "image/png": "[encoded data removed]",
      "text/plain": [
       "<matplotlib.figure.Figure at 0x11c0d6f10>"
      ]
     },
     "metadata": {},
     "output_type": "display_data"
    }
   ],
   "source": [
    "#examine students with funding gap of over 20000 dollars and how many drop out\n",
    "# 0 = didn't drop out, 1 = dropout\n",
    "df3[df3.total_cost_gap >= 20000].drop_out.value_counts().plot(kind = 'bar')"
   ]
  },
  {
   "cell_type": "code",
   "execution_count": 2982,
   "metadata": {
    "collapsed": false
   },
   "outputs": [],
   "source": [
    "#subset data to only students of funding gap greater than or equal to 20000\n",
    "df3 = df3[df3.total_cost_gap >= 20000]"
   ]
  },
  {
   "cell_type": "code",
   "execution_count": 2984,
   "metadata": {
    "collapsed": false
   },
   "outputs": [],
   "source": [
    "%matplotlib inline\n",
    "import matplotlib.pyplot as plt\n",
    "import seaborn as sns\n",
    "sns.set_style(\"whitegrid\")"
   ]
  },
  {
   "cell_type": "code",
   "execution_count": 2988,
   "metadata": {
    "collapsed": false
   },
   "outputs": [
    {
     "data": {
      "image/png": "[encoded data removed]",
      "text/plain": [
       "<matplotlib.figure.Figure at 0x11ce090d0>"
      ]
     },
     "metadata": {},
     "output_type": "display_data"
    }
   ],
   "source": [
    "#see that GPA is important in determining who drops out\n",
    "ax = sns.boxplot(x=\"drop_out\", y=\"gpa\", data=df3)\n",
    "plt.show()"
   ]
  },
  {
   "cell_type": "code",
   "execution_count": 2997,
   "metadata": {
    "collapsed": true
   },
   "outputs": [],
   "source": [
    "#select only aggregate variables for regression\n",
    "topCols = ['gpa','classes_completed', 'pct_classes_dropped', 'total_parent_contribution', 'total_college_cost', \n",
    "          'total_contribution', 's_work_hrs_week', 'total_gap_pct', 'missed_sems', 'ap_tests', 'total_grants', \n",
    "          'pct_apply_finaid', 'total_cost_gap', 'lforclyr', 'total_student_loan', 'hsizelyr', 'total_interference',\n",
    "          'household_income', 'mem_in_school', 'pct_w_debt', 'large_class', 'room', 'avg_debt', 'pct_need_met',\n",
    "          'tuition', 'pct_need_aid', 'med_class', 'small_class', 'total_fam_contribution', 'on_campus', 'pct_rec_grants',\n",
    "          'avg_grant', 'ysiblyr', 'osiblyr', 'pct_black', 'dropped_classes', 'depndlyr', 'ethnicity_B', 'pct_hisp',\n",
    "          'sex_F', 'hs_type_Public', 'hs_type_Private_Religious', 'ethnicity_W', 'ethnicity_A', 'mom_college', 'ethnicity_H',\n",
    "          'apply_finaid_Y', 'public_assistance_Y', 'us_born_Y', 'public_assistance_Y', 'dad_college', 'home_ownership_Y',\n",
    "          'college_Private_Research', 'hs_type_Private_Non_Religious', 'college_Liberal_Arts', 'hs_type_Home_School', \n",
    "          'f_work_hrs_week', 's_household_income', 'prejudice_score', 'get_away_from_campus_score', 'lonely_score', \n",
    "          'not_doing_well_score', 'effort_score', 'problems_finaid_score', 's_hours_sleeping', 'avg_hrs_extracurricular',\n",
    "          'avg_hrs_studying']"
   ]
  },
  {
   "cell_type": "code",
   "execution_count": 2998,
   "metadata": {
    "collapsed": false
   },
   "outputs": [
    {
     "name": "stderr",
     "output_type": "stream",
     "text": [
      "[Parallel(n_jobs=-1)]: Done  42 tasks      | elapsed:    0.2s\n",
      "[Parallel(n_jobs=-1)]: Done 100 out of 100 | elapsed:    0.3s finished\n"
     ]
    },
    {
     "data": {
      "text/plain": [
       "RandomForestRegressor(bootstrap=True, criterion='mse', max_depth=None,\n",
       "           max_features=67, max_leaf_nodes=None, min_samples_leaf=1,\n",
       "           min_samples_split=2, min_weight_fraction_leaf=0.0,\n",
       "           n_estimators=100, n_jobs=-1, oob_score=True, random_state=42,\n",
       "           verbose=1, warm_start=False)"
      ]
     },
     "execution_count": 2998,
     "metadata": {},
     "output_type": "execute_result"
    }
   ],
   "source": [
    "#run preliminary model\n",
    "rfModel = RandomForestRegressor(n_estimators=100, n_jobs=-1, verbose=1, max_features=len(topCols),\n",
    "                              oob_score=True, max_depth=None,random_state=42)\n",
    "    \n",
    "rfModel.fit(df3[topCols], df3.drop_out)"
   ]
  },
  {
   "cell_type": "code",
   "execution_count": 2999,
   "metadata": {
    "collapsed": true
   },
   "outputs": [],
   "source": [
    "results = df3.copy(deep = True)\n",
    "results['predsRaw'] = rfModel.oob_prediction_\n",
    "results['Preds'] = results.predsRaw > 0.1\n",
    "results['Preds'] = results['Preds'].astype(int)\n",
    "results['correct'] = (results.drop_out == results.Preds)"
   ]
  },
  {
   "cell_type": "code",
   "execution_count": 3000,
   "metadata": {
    "collapsed": false
   },
   "outputs": [
    {
     "name": "stdout",
     "output_type": "stream",
     "text": [
      "Overall accuracy:\n",
      "0.464516129032\n",
      "Percentage of actual dropouts correctly predicted:\n",
      "0.864864864865\n",
      "Percentage of actual dropout apps missed:\n",
      "0.135135135135\n",
      "Ratio of true positives to false positives:\n",
      "96 : 234\n"
     ]
    }
   ],
   "source": [
    "print 'Overall accuracy:'\n",
    "print float(results.correct.sum())/float(len(results))\n",
    "print 'Percentage of actual dropouts correctly predicted:'\n",
    "print float(results[results.drop_out == 1].correct.sum()) / float(len(results[results.drop_out == 1]))\n",
    "print \"Percentage of actual dropout apps missed:\"\n",
    "print 1-float(results[results.drop_out == 1].correct.sum()) / float(len(results[results.drop_out == 1]))\n",
    "print 'Ratio of true positives to false positives:' \n",
    "print results[results.Preds == 1].correct.sum(), \":\", len(results[(results.Preds == 1) & (results.correct ==0)])"
   ]
  },
  {
   "cell_type": "code",
   "execution_count": 3001,
   "metadata": {
    "collapsed": false
   },
   "outputs": [],
   "source": [
    "temp = rfModel.feature_importances_\n",
    "imp = pd.DataFrame(topCols,temp)\n",
    "imp = imp.reset_index()\n",
    "imp.columns = ['avg_imp', 'feat']\n",
    "imp = imp.sort_values('avg_imp',ascending=False)"
   ]
  },
  {
   "cell_type": "code",
   "execution_count": 3002,
   "metadata": {
    "collapsed": false,
    "scrolled": true
   },
   "outputs": [
    {
     "data": {
      "text/html": [
       "<div>\n",
       "<table border=\"1\" class=\"dataframe\">\n",
       "  <thead>\n",
       "    <tr style=\"text-align: right;\">\n",
       "      <th></th>\n",
       "      <th>avg_imp</th>\n",
       "      <th>feat</th>\n",
       "    </tr>\n",
       "  </thead>\n",
       "  <tbody>\n",
       "    <tr>\n",
       "      <th>0</th>\n",
       "      <td>0.122142</td>\n",
       "      <td>gpa</td>\n",
       "    </tr>\n",
       "    <tr>\n",
       "      <th>2</th>\n",
       "      <td>0.054529</td>\n",
       "      <td>pct_classes_dropped</td>\n",
       "    </tr>\n",
       "    <tr>\n",
       "      <th>1</th>\n",
       "      <td>0.040338</td>\n",
       "      <td>classes_completed</td>\n",
       "    </tr>\n",
       "    <tr>\n",
       "      <th>58</th>\n",
       "      <td>0.039328</td>\n",
       "      <td>prejudice_score</td>\n",
       "    </tr>\n",
       "    <tr>\n",
       "      <th>65</th>\n",
       "      <td>0.034994</td>\n",
       "      <td>avg_hrs_extracurricular</td>\n",
       "    </tr>\n",
       "    <tr>\n",
       "      <th>12</th>\n",
       "      <td>0.033966</td>\n",
       "      <td>total_cost_gap</td>\n",
       "    </tr>\n",
       "    <tr>\n",
       "      <th>3</th>\n",
       "      <td>0.032771</td>\n",
       "      <td>total_parent_contribution</td>\n",
       "    </tr>\n",
       "    <tr>\n",
       "      <th>66</th>\n",
       "      <td>0.032627</td>\n",
       "      <td>avg_hrs_studying</td>\n",
       "    </tr>\n",
       "    <tr>\n",
       "      <th>62</th>\n",
       "      <td>0.030514</td>\n",
       "      <td>effort_score</td>\n",
       "    </tr>\n",
       "    <tr>\n",
       "      <th>11</th>\n",
       "      <td>0.028169</td>\n",
       "      <td>pct_apply_finaid</td>\n",
       "    </tr>\n",
       "    <tr>\n",
       "      <th>6</th>\n",
       "      <td>0.024121</td>\n",
       "      <td>s_work_hrs_week</td>\n",
       "    </tr>\n",
       "    <tr>\n",
       "      <th>7</th>\n",
       "      <td>0.022988</td>\n",
       "      <td>total_gap_pct</td>\n",
       "    </tr>\n",
       "    <tr>\n",
       "      <th>15</th>\n",
       "      <td>0.022634</td>\n",
       "      <td>hsizelyr</td>\n",
       "    </tr>\n",
       "    <tr>\n",
       "      <th>59</th>\n",
       "      <td>0.022308</td>\n",
       "      <td>get_away_from_campus_score</td>\n",
       "    </tr>\n",
       "    <tr>\n",
       "      <th>57</th>\n",
       "      <td>0.021986</td>\n",
       "      <td>s_household_income</td>\n",
       "    </tr>\n",
       "    <tr>\n",
       "      <th>5</th>\n",
       "      <td>0.021516</td>\n",
       "      <td>total_contribution</td>\n",
       "    </tr>\n",
       "    <tr>\n",
       "      <th>4</th>\n",
       "      <td>0.021097</td>\n",
       "      <td>total_college_cost</td>\n",
       "    </tr>\n",
       "    <tr>\n",
       "      <th>56</th>\n",
       "      <td>0.018796</td>\n",
       "      <td>f_work_hrs_week</td>\n",
       "    </tr>\n",
       "    <tr>\n",
       "      <th>60</th>\n",
       "      <td>0.018556</td>\n",
       "      <td>lonely_score</td>\n",
       "    </tr>\n",
       "    <tr>\n",
       "      <th>9</th>\n",
       "      <td>0.018261</td>\n",
       "      <td>ap_tests</td>\n",
       "    </tr>\n",
       "    <tr>\n",
       "      <th>10</th>\n",
       "      <td>0.017120</td>\n",
       "      <td>total_grants</td>\n",
       "    </tr>\n",
       "    <tr>\n",
       "      <th>63</th>\n",
       "      <td>0.016465</td>\n",
       "      <td>problems_finaid_score</td>\n",
       "    </tr>\n",
       "    <tr>\n",
       "      <th>23</th>\n",
       "      <td>0.015809</td>\n",
       "      <td>pct_need_met</td>\n",
       "    </tr>\n",
       "    <tr>\n",
       "      <th>25</th>\n",
       "      <td>0.014802</td>\n",
       "      <td>pct_need_aid</td>\n",
       "    </tr>\n",
       "    <tr>\n",
       "      <th>16</th>\n",
       "      <td>0.014608</td>\n",
       "      <td>total_interference</td>\n",
       "    </tr>\n",
       "    <tr>\n",
       "      <th>13</th>\n",
       "      <td>0.013812</td>\n",
       "      <td>lforclyr</td>\n",
       "    </tr>\n",
       "    <tr>\n",
       "      <th>28</th>\n",
       "      <td>0.013774</td>\n",
       "      <td>total_fam_contribution</td>\n",
       "    </tr>\n",
       "    <tr>\n",
       "      <th>14</th>\n",
       "      <td>0.012884</td>\n",
       "      <td>total_student_loan</td>\n",
       "    </tr>\n",
       "    <tr>\n",
       "      <th>17</th>\n",
       "      <td>0.012662</td>\n",
       "      <td>household_income</td>\n",
       "    </tr>\n",
       "    <tr>\n",
       "      <th>61</th>\n",
       "      <td>0.012183</td>\n",
       "      <td>not_doing_well_score</td>\n",
       "    </tr>\n",
       "    <tr>\n",
       "      <th>20</th>\n",
       "      <td>0.012127</td>\n",
       "      <td>large_class</td>\n",
       "    </tr>\n",
       "    <tr>\n",
       "      <th>51</th>\n",
       "      <td>0.010024</td>\n",
       "      <td>home_ownership_Y</td>\n",
       "    </tr>\n",
       "    <tr>\n",
       "      <th>26</th>\n",
       "      <td>0.009863</td>\n",
       "      <td>med_class</td>\n",
       "    </tr>\n",
       "    <tr>\n",
       "      <th>29</th>\n",
       "      <td>0.008786</td>\n",
       "      <td>on_campus</td>\n",
       "    </tr>\n",
       "    <tr>\n",
       "      <th>30</th>\n",
       "      <td>0.008703</td>\n",
       "      <td>pct_rec_grants</td>\n",
       "    </tr>\n",
       "    <tr>\n",
       "      <th>22</th>\n",
       "      <td>0.008679</td>\n",
       "      <td>avg_debt</td>\n",
       "    </tr>\n",
       "    <tr>\n",
       "      <th>24</th>\n",
       "      <td>0.008499</td>\n",
       "      <td>tuition</td>\n",
       "    </tr>\n",
       "    <tr>\n",
       "      <th>32</th>\n",
       "      <td>0.008074</td>\n",
       "      <td>ysiblyr</td>\n",
       "    </tr>\n",
       "    <tr>\n",
       "      <th>18</th>\n",
       "      <td>0.007272</td>\n",
       "      <td>mem_in_school</td>\n",
       "    </tr>\n",
       "    <tr>\n",
       "      <th>39</th>\n",
       "      <td>0.007134</td>\n",
       "      <td>sex_F</td>\n",
       "    </tr>\n",
       "    <tr>\n",
       "      <th>21</th>\n",
       "      <td>0.006958</td>\n",
       "      <td>room</td>\n",
       "    </tr>\n",
       "    <tr>\n",
       "      <th>34</th>\n",
       "      <td>0.006715</td>\n",
       "      <td>pct_black</td>\n",
       "    </tr>\n",
       "    <tr>\n",
       "      <th>31</th>\n",
       "      <td>0.006682</td>\n",
       "      <td>avg_grant</td>\n",
       "    </tr>\n",
       "    <tr>\n",
       "      <th>27</th>\n",
       "      <td>0.006472</td>\n",
       "      <td>small_class</td>\n",
       "    </tr>\n",
       "    <tr>\n",
       "      <th>19</th>\n",
       "      <td>0.006363</td>\n",
       "      <td>pct_w_debt</td>\n",
       "    </tr>\n",
       "    <tr>\n",
       "      <th>64</th>\n",
       "      <td>0.006210</td>\n",
       "      <td>s_hours_sleeping</td>\n",
       "    </tr>\n",
       "    <tr>\n",
       "      <th>41</th>\n",
       "      <td>0.005750</td>\n",
       "      <td>hs_type_Private_Religious</td>\n",
       "    </tr>\n",
       "    <tr>\n",
       "      <th>38</th>\n",
       "      <td>0.005373</td>\n",
       "      <td>pct_hisp</td>\n",
       "    </tr>\n",
       "    <tr>\n",
       "      <th>42</th>\n",
       "      <td>0.005144</td>\n",
       "      <td>ethnicity_W</td>\n",
       "    </tr>\n",
       "    <tr>\n",
       "      <th>52</th>\n",
       "      <td>0.004535</td>\n",
       "      <td>college_Private_Research</td>\n",
       "    </tr>\n",
       "    <tr>\n",
       "      <th>36</th>\n",
       "      <td>0.004513</td>\n",
       "      <td>depndlyr</td>\n",
       "    </tr>\n",
       "    <tr>\n",
       "      <th>40</th>\n",
       "      <td>0.004130</td>\n",
       "      <td>hs_type_Public</td>\n",
       "    </tr>\n",
       "    <tr>\n",
       "      <th>48</th>\n",
       "      <td>0.003975</td>\n",
       "      <td>us_born_Y</td>\n",
       "    </tr>\n",
       "    <tr>\n",
       "      <th>49</th>\n",
       "      <td>0.003814</td>\n",
       "      <td>public_assistance_Y</td>\n",
       "    </tr>\n",
       "    <tr>\n",
       "      <th>43</th>\n",
       "      <td>0.003356</td>\n",
       "      <td>ethnicity_A</td>\n",
       "    </tr>\n",
       "    <tr>\n",
       "      <th>33</th>\n",
       "      <td>0.003303</td>\n",
       "      <td>osiblyr</td>\n",
       "    </tr>\n",
       "    <tr>\n",
       "      <th>37</th>\n",
       "      <td>0.003172</td>\n",
       "      <td>ethnicity_B</td>\n",
       "    </tr>\n",
       "    <tr>\n",
       "      <th>47</th>\n",
       "      <td>0.003096</td>\n",
       "      <td>public_assistance_Y</td>\n",
       "    </tr>\n",
       "    <tr>\n",
       "      <th>8</th>\n",
       "      <td>0.002935</td>\n",
       "      <td>missed_sems</td>\n",
       "    </tr>\n",
       "    <tr>\n",
       "      <th>54</th>\n",
       "      <td>0.002711</td>\n",
       "      <td>college_Liberal_Arts</td>\n",
       "    </tr>\n",
       "    <tr>\n",
       "      <th>44</th>\n",
       "      <td>0.002587</td>\n",
       "      <td>mom_college</td>\n",
       "    </tr>\n",
       "    <tr>\n",
       "      <th>46</th>\n",
       "      <td>0.002222</td>\n",
       "      <td>apply_finaid_Y</td>\n",
       "    </tr>\n",
       "    <tr>\n",
       "      <th>35</th>\n",
       "      <td>0.002118</td>\n",
       "      <td>dropped_classes</td>\n",
       "    </tr>\n",
       "    <tr>\n",
       "      <th>45</th>\n",
       "      <td>0.001558</td>\n",
       "      <td>ethnicity_H</td>\n",
       "    </tr>\n",
       "    <tr>\n",
       "      <th>53</th>\n",
       "      <td>0.001210</td>\n",
       "      <td>hs_type_Private_Non_Religious</td>\n",
       "    </tr>\n",
       "    <tr>\n",
       "      <th>50</th>\n",
       "      <td>0.000176</td>\n",
       "      <td>dad_college</td>\n",
       "    </tr>\n",
       "    <tr>\n",
       "      <th>55</th>\n",
       "      <td>0.000000</td>\n",
       "      <td>hs_type_Home_School</td>\n",
       "    </tr>\n",
       "  </tbody>\n",
       "</table>\n",
       "</div>"
      ],
      "text/plain": [
       "     avg_imp                           feat\n",
       "0   0.122142                            gpa\n",
       "2   0.054529            pct_classes_dropped\n",
       "1   0.040338              classes_completed\n",
       "58  0.039328                prejudice_score\n",
       "65  0.034994        avg_hrs_extracurricular\n",
       "12  0.033966                 total_cost_gap\n",
       "3   0.032771      total_parent_contribution\n",
       "66  0.032627               avg_hrs_studying\n",
       "62  0.030514                   effort_score\n",
       "11  0.028169               pct_apply_finaid\n",
       "6   0.024121                s_work_hrs_week\n",
       "7   0.022988                  total_gap_pct\n",
       "15  0.022634                       hsizelyr\n",
       "59  0.022308     get_away_from_campus_score\n",
       "57  0.021986             s_household_income\n",
       "5   0.021516             total_contribution\n",
       "4   0.021097             total_college_cost\n",
       "56  0.018796                f_work_hrs_week\n",
       "60  0.018556                   lonely_score\n",
       "9   0.018261                       ap_tests\n",
       "10  0.017120                   total_grants\n",
       "63  0.016465          problems_finaid_score\n",
       "23  0.015809                   pct_need_met\n",
       "25  0.014802                   pct_need_aid\n",
       "16  0.014608             total_interference\n",
       "13  0.013812                       lforclyr\n",
       "28  0.013774         total_fam_contribution\n",
       "14  0.012884             total_student_loan\n",
       "17  0.012662               household_income\n",
       "61  0.012183           not_doing_well_score\n",
       "20  0.012127                    large_class\n",
       "51  0.010024               home_ownership_Y\n",
       "26  0.009863                      med_class\n",
       "29  0.008786                      on_campus\n",
       "30  0.008703                 pct_rec_grants\n",
       "22  0.008679                       avg_debt\n",
       "24  0.008499                        tuition\n",
       "32  0.008074                        ysiblyr\n",
       "18  0.007272                  mem_in_school\n",
       "39  0.007134                          sex_F\n",
       "21  0.006958                           room\n",
       "34  0.006715                      pct_black\n",
       "31  0.006682                      avg_grant\n",
       "27  0.006472                    small_class\n",
       "19  0.006363                     pct_w_debt\n",
       "64  0.006210               s_hours_sleeping\n",
       "41  0.005750      hs_type_Private_Religious\n",
       "38  0.005373                       pct_hisp\n",
       "42  0.005144                    ethnicity_W\n",
       "52  0.004535       college_Private_Research\n",
       "36  0.004513                       depndlyr\n",
       "40  0.004130                 hs_type_Public\n",
       "48  0.003975                      us_born_Y\n",
       "49  0.003814            public_assistance_Y\n",
       "43  0.003356                    ethnicity_A\n",
       "33  0.003303                        osiblyr\n",
       "37  0.003172                    ethnicity_B\n",
       "47  0.003096            public_assistance_Y\n",
       "8   0.002935                    missed_sems\n",
       "54  0.002711           college_Liberal_Arts\n",
       "44  0.002587                    mom_college\n",
       "46  0.002222                 apply_finaid_Y\n",
       "35  0.002118                dropped_classes\n",
       "45  0.001558                    ethnicity_H\n",
       "53  0.001210  hs_type_Private_Non_Religious\n",
       "50  0.000176                    dad_college\n",
       "55  0.000000            hs_type_Home_School"
      ]
     },
     "execution_count": 3002,
     "metadata": {},
     "output_type": "execute_result"
    }
   ],
   "source": [
    "#variable importances\n",
    "imp"
   ]
  },
  {
   "cell_type": "code",
   "execution_count": 3003,
   "metadata": {
    "collapsed": true
   },
   "outputs": [],
   "source": [
    "#select top 21 variables: we tried various numbers including more and less than 21. 21 was the best\n",
    "topCols = imp.head(21).feat.values"
   ]
  },
  {
   "cell_type": "code",
   "execution_count": 2612,
   "metadata": {
    "collapsed": false
   },
   "outputs": [
    {
     "name": "stderr",
     "output_type": "stream",
     "text": [
      "[Parallel(n_jobs=-1)]: Done  42 tasks      | elapsed:    0.1s\n",
      "[Parallel(n_jobs=-1)]: Done 100 out of 100 | elapsed:    0.1s finished\n"
     ]
    },
    {
     "data": {
      "text/plain": [
       "RandomForestRegressor(bootstrap=True, criterion='mse', max_depth=None,\n",
       "           max_features=21, max_leaf_nodes=None, min_samples_leaf=1,\n",
       "           min_samples_split=2, min_weight_fraction_leaf=0.0,\n",
       "           n_estimators=100, n_jobs=-1, oob_score=True, random_state=42,\n",
       "           verbose=1, warm_start=False)"
      ]
     },
     "execution_count": 2612,
     "metadata": {},
     "output_type": "execute_result"
    }
   ],
   "source": [
    "rfModel = RandomForestRegressor(n_estimators=100, n_jobs=-1, verbose=1, max_features=len(topCols),\n",
    "                              oob_score=True, max_depth=None,random_state=42)\n",
    "    \n",
    "rfModel.fit(df3[topCols], df3.drop_out)"
   ]
  },
  {
   "cell_type": "code",
   "execution_count": 2653,
   "metadata": {
    "collapsed": true
   },
   "outputs": [],
   "source": [
    "import pickle"
   ]
  },
  {
   "cell_type": "code",
   "execution_count": 3006,
   "metadata": {
    "collapsed": true
   },
   "outputs": [],
   "source": [
    "predictPath = '~/BridgeEdu Challenge/'"
   ]
  },
  {
   "cell_type": "code",
   "execution_count": 3007,
   "metadata": {
    "collapsed": false
   },
   "outputs": [],
   "source": [
    "#open final model we saved\n",
    "rfModel = pickle.load(open(predictPath + \"rfModel.p\", \"rb\"))"
   ]
  },
  {
   "cell_type": "code",
   "execution_count": 3008,
   "metadata": {
    "collapsed": true
   },
   "outputs": [],
   "source": [
    "#open final variables we saved\n",
    "topCols = pickle.load(open(predictPath + \"topCols.p\", \"rb\"))"
   ]
  },
  {
   "cell_type": "code",
   "execution_count": 3009,
   "metadata": {
    "collapsed": true
   },
   "outputs": [],
   "source": [
    "results = df3.copy(deep = True)\n",
    "results['predsRaw'] = rfModel.oob_prediction_\n",
    "results['Preds'] = results.predsRaw > .26\n",
    "results['Preds'] = results['Preds'].astype(int)\n",
    "results['correct'] = (results.drop_out == results.Preds)"
   ]
  },
  {
   "cell_type": "code",
   "execution_count": 3010,
   "metadata": {
    "collapsed": false
   },
   "outputs": [
    {
     "name": "stdout",
     "output_type": "stream",
     "text": [
      "Overall accuracy:\n",
      "0.72688172043\n",
      "Percentage of actual dropouts correctly predicted:\n",
      "0.738738738739\n",
      "Percentage of actual dropout apps missed:\n",
      "0.261261261261\n",
      "Ratio of true positives to false positives:\n",
      "82 : 98\n"
     ]
    }
   ],
   "source": [
    "print 'Overall accuracy:'\n",
    "print float(results.correct.sum())/float(len(results))\n",
    "print 'Percentage of actual dropouts correctly predicted:'\n",
    "print float(results[results.drop_out == 1].correct.sum()) / float(len(results[results.drop_out == 1]))\n",
    "print \"Percentage of actual dropout apps missed:\"\n",
    "print 1-float(results[results.drop_out == 1].correct.sum()) / float(len(results[results.drop_out == 1]))\n",
    "print 'Ratio of true positives to false positives:' \n",
    "print results[results.Preds == 1].correct.sum(), \":\", len(results[(results.Preds == 1) & (results.correct ==0)])"
   ]
  },
  {
   "cell_type": "code",
   "execution_count": 3011,
   "metadata": {
    "collapsed": false
   },
   "outputs": [
    {
     "name": "stderr",
     "output_type": "stream",
     "text": [
      "[Parallel(n_jobs=4)]: Done  42 tasks      | elapsed:    0.0s\n",
      "[Parallel(n_jobs=4)]: Done 100 out of 100 | elapsed:    0.1s finished\n"
     ]
    }
   ],
   "source": [
    "#calculate r^2 value\n",
    "results2 = df3.copy(deep = True)\n",
    "results2['score'] = rfModel.predict(df3[topCols])"
   ]
  },
  {
   "cell_type": "code",
   "execution_count": 3012,
   "metadata": {
    "collapsed": false
   },
   "outputs": [],
   "source": [
    "r_square = results2[['drop_out', 'score']]\n",
    "r_square['error'] = r_square.drop_out - r_square.score\n",
    "r_square['something'] = r_square.drop_out - r_square.drop_out.mean()\n",
    "r_square['numer'] = r_square.error **2\n",
    "r_square['denom'] = r_square.something **2"
   ]
  },
  {
   "cell_type": "code",
   "execution_count": 3016,
   "metadata": {
    "collapsed": false
   },
   "outputs": [
    {
     "name": "stdout",
     "output_type": "stream",
     "text": [
      "R^2 value for random forest is: 0.881857764544\n"
     ]
    }
   ],
   "source": [
    "print 'R^2 value for random forest is:', 1 - (r_square.numer.sum() / r_square.denom.sum())"
   ]
  },
  {
   "cell_type": "code",
   "execution_count": 2571,
   "metadata": {
    "collapsed": true
   },
   "outputs": [],
   "source": [
    "from sklearn.linear_model import LogisticRegression\n",
    "from sklearn import metrics\n",
    "from sklearn.cross_validation import cross_val_score, cross_val_predict"
   ]
  },
  {
   "cell_type": "code",
   "execution_count": 3017,
   "metadata": {
    "collapsed": false
   },
   "outputs": [],
   "source": [
    "#build logistic model using same variables as benchmark\n",
    "results = df3.copy(deep = True)\n",
    "results['predsRaw'] = cross_val_predict(LogisticRegression(), df3[topCols], df3.drop_out, cv=10)\n",
    "results['Preds'] = results.predsRaw > 0.26\n",
    "results['Preds'] = results['Preds'].astype(int)\n",
    "results['correct'] = (results.drop_out == results.Preds)"
   ]
  },
  {
   "cell_type": "code",
   "execution_count": 3018,
   "metadata": {
    "collapsed": false
   },
   "outputs": [
    {
     "name": "stdout",
     "output_type": "stream",
     "text": [
      "Overall accuracy:\n",
      "0.761290322581\n",
      "Percentage of actual dropouts correctly predicted:\n",
      "0.18018018018\n",
      "Percentage of actual dropout apps missed:\n",
      "0.81981981982\n",
      "Ratio of true positives to false positives:\n",
      "20 : 20\n"
     ]
    }
   ],
   "source": [
    "print 'Overall accuracy:'\n",
    "print float(results.correct.sum())/float(len(results))\n",
    "print 'Percentage of actual dropouts correctly predicted:'\n",
    "print float(results[results.drop_out == 1].correct.sum()) / float(len(results[results.drop_out == 1]))\n",
    "print \"Percentage of actual dropout apps missed:\"\n",
    "print 1-float(results[results.drop_out == 1].correct.sum()) / float(len(results[results.drop_out == 1]))\n",
    "print 'Ratio of true positives to false positives:' \n",
    "print results[results.Preds == 1].correct.sum(), \":\", len(results[(results.Preds == 1) & (results.correct ==0)])"
   ]
  },
  {
   "cell_type": "code",
   "execution_count": 3019,
   "metadata": {
    "collapsed": true
   },
   "outputs": [],
   "source": [
    "logit = LogisticRegression()"
   ]
  },
  {
   "cell_type": "code",
   "execution_count": 3020,
   "metadata": {
    "collapsed": false
   },
   "outputs": [
    {
     "data": {
      "text/plain": [
       "LogisticRegression(C=1.0, class_weight=None, dual=False, fit_intercept=True,\n",
       "          intercept_scaling=1, max_iter=100, multi_class='ovr', n_jobs=1,\n",
       "          penalty='l2', random_state=None, solver='liblinear', tol=0.0001,\n",
       "          verbose=0, warm_start=False)"
      ]
     },
     "execution_count": 3020,
     "metadata": {},
     "output_type": "execute_result"
    }
   ],
   "source": [
    "logit.fit(df3[topCols], df3.drop_out)"
   ]
  },
  {
   "cell_type": "code",
   "execution_count": 3021,
   "metadata": {
    "collapsed": false
   },
   "outputs": [
    {
     "name": "stdout",
     "output_type": "stream",
     "text": [
      "R^2 of logistic model: 0.765591397849\n"
     ]
    }
   ],
   "source": [
    "print 'R^2 of logistic model:', logit.score(df3[topCols], df3.drop_out)"
   ]
  },
  {
   "cell_type": "code",
   "execution_count": null,
   "metadata": {
    "collapsed": true
   },
   "outputs": [],
   "source": []
  }
 ],
 "metadata": {
  "kernelspec": {
   "display_name": "Python 2",
   "language": "python",
   "name": "python2"
  },
  "language_info": {
   "codemirror_mode": {
    "name": "ipython",
    "version": 2
   },
   "file_extension": ".py",
   "mimetype": "text/x-python",
   "name": "python",
   "nbconvert_exporter": "python",
   "pygments_lexer": "ipython2",
   "version": "2.7.11"
  }
 },
 "nbformat": 4,
 "nbformat_minor": 0
}
